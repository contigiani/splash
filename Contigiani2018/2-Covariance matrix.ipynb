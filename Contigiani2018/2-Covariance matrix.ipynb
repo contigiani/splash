{
 "cells": [
  {
   "cell_type": "code",
   "execution_count": null,
   "metadata": {},
   "outputs": [],
   "source": [
    "# PREAMBLE\n",
    "import numpy as np\n",
    "from matplotlib import pyplot as plt\n",
    "\n",
    "from astropy.cosmology import Planck15 as cosmo\n",
    "from astropy.table import Table\n",
    "from astropy import units as u\n",
    "\n",
    "import camb\n",
    "from camb import model\n",
    "\n",
    "import splashback.cosmic_noise as cn\n",
    "import splashback.cluster as cl\n",
    "cn = reload(cn)\n",
    "cl = reload(cl)"
   ]
  },
  {
   "cell_type": "markdown",
   "metadata": {},
   "source": [
    "***$C_\\mathrm{LSS}$***\n",
    "======\n",
    "\n",
    "In this notebook the shear noise caused by uncorrelated LSS structure is computed.\n",
    "\n",
    "***Power Spectrum by camb***"
   ]
  },
  {
   "cell_type": "code",
   "execution_count": null,
   "metadata": {},
   "outputs": [],
   "source": [
    "#Straight from tutorial. \n",
    "pars = camb.CAMBparams()\n",
    "pars.set_cosmology(H0=70, ombh2=0.024, omch2=0.124)\n",
    "pars.set_dark_energy()\n",
    "pars.InitPower.set_params(ns=0.965)\n",
    "pars.NonLinear = camb.model.NonLinear_both\n",
    "\n",
    "#Camb returns the power spectrum (in Mpc-3) as a function of k (in Mpc)\n",
    "Pk = camb.get_matter_power_interpolator(pars, zmax=10)#, hubble_units=False, k_hunit=False)\n",
    "Pk_2 = camb.get_matter_power_interpolator(pars, zmax=10, hubble_units=False, k_hunit=False)\n",
    "\n",
    "plt.loglog(np.geomspace(1e-4, 1),np.exp(Pk(0, np.log(np.geomspace(1e-4, 1.))))[0], label='k unit' )\n",
    "plt.loglog(np.geomspace(1e-4, 1),np.exp(Pk_2(0, np.log(np.geomspace(1e-4, 1.))))[0], label='no k unit')\n",
    "\n",
    "plt.legend()\n",
    "plt.show()\n",
    "\n",
    "results = camb.get_results(pars)\n",
    "s8 = np.array(results.get_sigma8())\n",
    "print \"s8:\", s8"
   ]
  },
  {
   "cell_type": "markdown",
   "metadata": {},
   "source": [
    "***Compute an example Power spectrum***"
   ]
  },
  {
   "cell_type": "code",
   "execution_count": null,
   "metadata": {},
   "outputs": [],
   "source": [
    "p_k_hist, W_hist = cn.P_k_gen(z_list =Table.read('data/photoz/COSMOS2015.fits')['z'], verbose=True)\n",
    "p_k_func, W_func = cn.P_k_gen(verbose=True)\n",
    "p_k_plane, W_plane = cn.P_k_gen(z_s=0.7, verbose=True)\n",
    "\n",
    "print \"COSMOS2015\"\n",
    "\n",
    "ls = np.geomspace(20, 1e4)\n",
    "plt.figure()\n",
    "plt.loglog(ls, p_k_hist(ls)*ls*(ls+1)/2/np.pi, label='histogram')\n",
    "plt.loglog(ls, p_k_func(ls)*ls*(ls+1)/2/np.pi, label='function')\n",
    "plt.loglog(ls, p_k_plane(ls)*ls*(ls+1)/2/np.pi, label='single plane')\n",
    "plt.gca().set_xlabel('Matter power spectrum P(k) (Mpc-3)')\n",
    "plt.gca().set_ylabel('k (Mpc-1)')\n",
    "plt.legend()\n",
    "plt.show()\n",
    "\n",
    "plt.figure()\n",
    "plt.plot(p_k_hist(ls)/p_k_func(ls))\n",
    "plt.title(\"ratio histogram/function\")\n",
    "plt.gca().set_xlabel('ratio')\n",
    "plt.gca().set_ylabel('k (Mpc-1)')\n",
    "plt.show()\n",
    "\n",
    "\n",
    "ws = np.linspace(0, 9000)\n",
    "plt.figure()\n",
    "plt.loglog(ws, W_hist(ws), label='histogram')\n",
    "plt.loglog(ws, W_func(ws), label='function')\n",
    "plt.loglog(ws, W_plane(ws), label='single plane')\n",
    "plt.gca().set_xlabel('Comoving distance (Mpc)')\n",
    "plt.gca().set_ylabel('Lensing ratio W(w)')\n",
    "plt.legend()\n",
    "plt.show()"
   ]
  },
  {
   "cell_type": "markdown",
   "metadata": {},
   "source": [
    "***CREATE SHEAR COVARIANCE MATRIX***"
   ]
  },
  {
   "cell_type": "code",
   "execution_count": null,
   "metadata": {},
   "outputs": [],
   "source": [
    "bin_edges = np.geomspace(.2, 9, 11)*u.Mpc\n",
    "data_CCCP = Table.read('data/CCCPnomergers.fits')\n",
    "\n",
    "for i in xrange(len(data_CCCP)):\n",
    "    print data_CCCP['name'][i]\n",
    "    sky_edges = (bin_edges/data_CCCP['da'].quantity[i]).to('arcmin')\n",
    "    table = Table.read('data/photoz/individual/'+data_CCCP['name'][i]+'.fits')\n",
    "    p_k_hist = cn.P_k_gen(z_list=table['z'], weights=table['w'])\n",
    "    print \"P_k done\"\n",
    "    np.save(\"output/lss_covariance/\"+data_CCCP['name'][i]+\".npy\", cn.CLSS(sky_edges, p_k_hist))\n",
    "    print \"saved\""
   ]
  },
  {
   "cell_type": "code",
   "execution_count": null,
   "metadata": {},
   "outputs": [],
   "source": []
  }
 ],
 "metadata": {
  "kernelspec": {
   "display_name": "Python 2",
   "language": "python",
   "name": "python2"
  },
  "language_info": {
   "codemirror_mode": {
    "name": "ipython",
    "version": 2
   },
   "file_extension": ".py",
   "mimetype": "text/x-python",
   "name": "python",
   "nbconvert_exporter": "python",
   "pygments_lexer": "ipython2",
   "version": "2.7.15"
  }
 },
 "nbformat": 4,
 "nbformat_minor": 2
}
