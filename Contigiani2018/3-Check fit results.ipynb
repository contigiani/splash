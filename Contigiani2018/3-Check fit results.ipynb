{
 "cells": [
  {
   "cell_type": "markdown",
   "metadata": {},
   "source": [
    "**PREAMBLE**"
   ]
  },
  {
   "cell_type": "code",
   "execution_count": null,
   "metadata": {},
   "outputs": [],
   "source": [
    "import splashback.cluster\n",
    "reload(splashback.cluster)\n",
    "cluster_sample = splashback.cluster.cluster_sample\n",
    "\n",
    "import numpy as np\n",
    "import emcee\n",
    "from getdist import plots, MCSamples\n",
    "import corner\n",
    "\n",
    "from matplotlib import pyplot as plt\n",
    "from astropy import units as u\n",
    "from splashback.profile import DK14, rho, rho_infall, rho_Ein, f_trans\n",
    "%matplotlib inline\n",
    "plt.rc('font', size=20)"
   ]
  },
  {
   "cell_type": "markdown",
   "metadata": {},
   "source": [
    "**VARIABLES**"
   ]
  },
  {
   "cell_type": "code",
   "execution_count": null,
   "metadata": {},
   "outputs": [],
   "source": [
    "n_disc = 100 # burn-in\n",
    "chain_name = 'highm' \n",
    "r_limit = True\n",
    "names = ['rho_s', 'r_s', 'logalpha', 'log r_t', 'logbeta', 'loggamma', 'rho_0', 's_e']\n",
    "labels =  [r'$\\rho_s$', 'r_s', r'$\\log \\alpha$', '$\\log r_t$', r'$\\log \\beta$', r'$\\log \\gamma$', r\"$\\rho_0$\", \"$s_e$\"]\n",
    "\n",
    "n_samples = 1000# How many points to take for the posteriors in r_splash and co\n",
    "\n",
    "\n",
    "filename = \"output/chains/\"+chain_name+'_'+str(r_limit)+'.h5'\n",
    "if(chain_name=='simulation'):\n",
    "    filename = \"output/chains/simulation.h5\"\n",
    "backend = emcee.backends.HDFBackend(filename, read_only=True)\n",
    "\n",
    "data = backend.get_chain()"
   ]
  },
  {
   "cell_type": "markdown",
   "metadata": {},
   "source": [
    "**INSPECT CHAINS**"
   ]
  },
  {
   "cell_type": "code",
   "execution_count": null,
   "metadata": {
    "scrolled": false
   },
   "outputs": [],
   "source": [
    "print chain_name\n",
    "data = backend.get_chain()\n",
    "#print backend.get_autocorr_time(discard=n_disc)\n",
    "for i in xrange(8):\n",
    "    plt.figure()\n",
    "    plt.gca().set_xlabel('chain step')\n",
    "    plt.gca().set_ylabel(r\"Position of \"+names[i])\n",
    "    plt.axvline(n_disc, c='r', ls='--')\n",
    "    plt.plot(data[:, :, i], c='k', alpha=0.1)\n",
    "    \n",
    "\n",
    "lnprob = backend.get_log_prob(discard=n_disc)\n",
    "\n",
    "plt.figure()\n",
    "plt.gca().set_xlabel('chain step')\n",
    "plt.gca().set_ylabel(r\"max $\\log \\mathcal{L}$\")\n",
    "plt.plot(lnprob[:, :].max(axis=1), c='k', alpha=0.1)\n",
    "plt.gca().set_ylim([-10, 0])\n",
    "plt.show()"
   ]
  },
  {
   "cell_type": "markdown",
   "metadata": {},
   "source": [
    "**TRIANGLE PLOT**"
   ]
  },
  {
   "cell_type": "code",
   "execution_count": null,
   "metadata": {
    "scrolled": false
   },
   "outputs": [],
   "source": [
    "print chain_name\n",
    "samps = backend.get_chain(flat = True, discard=n_disc)\n",
    "#points = MCSamples(samples=samps,names = names, labels = labels)\n",
    "#g = plots.getSubplotPlotter()\n",
    "#g.triangle_plot(points, filled=True)\n",
    "corner.corner(samps, labels=labels, show_titles=True, plot_datapoints=False, plot_density=False, quantiles=(0.16, 0.84), levels=(1-np.exp(-0.5),1-np.exp(-2)), fill_contours=True)#, truths=params_best)\n",
    "plt.show()\n"
   ]
  },
  {
   "cell_type": "markdown",
   "metadata": {},
   "source": [
    "**SPLASHBACK POSITION**"
   ]
  },
  {
   "cell_type": "code",
   "execution_count": null,
   "metadata": {
    "scrolled": false
   },
   "outputs": [],
   "source": [
    "print chain_name\n",
    "\n",
    "backend = emcee.backends.HDFBackend(filename, read_only=True)\n",
    "data = backend.get_chain(flat = True, discard=n_disc)\n",
    "params = data[np.random.choice(data.shape[0], n_samples), :]\n",
    "r = np.linspace(.3, 70., 1000)\n",
    "logr = np.log(r)\n",
    "\n",
    "\n",
    "r_sp = np.zeros(n_samples)\n",
    "\n",
    "der = np.zeros(n_samples)\n",
    "der_c = np.zeros(n_samples)\n",
    "fraction_at_0 = np.zeros(n_samples)\n",
    "der_E = np.zeros(n_samples)\n",
    "der_onesigma = np.zeros((n_samples, len(r)))\n",
    "der_c_onesigma = np.zeros((n_samples, len(r)))\n",
    "plt.figure(figsize=(10, 10))\n",
    "\n",
    "for i in xrange(n_samples):\n",
    "    rho_s, r_s, logalpha, r_t, logbeta, loggamma, rho_0, s_e = params[i, :]\n",
    "    #Total derivative \n",
    "    para_tot = [rho_s, r_s, logalpha, r_t, logbeta, loggamma, rho_0, s_e]\n",
    "    y_tot = rho(r, para_tot)\n",
    "    logy_tot = np.log(y_tot)\n",
    "    derivative = np.gradient(logy_tot, logr)\n",
    "    plt.plot(r, derivative, c='k', alpha=0.01)\n",
    "    der_onesigma[i] = derivative\n",
    "    \n",
    "    # Plot fraction of collapsed material \n",
    "    y_c = rho_Ein(r, [rho_s, r_s, logalpha])*f_trans(r, [r_t, logbeta, loggamma])\n",
    "    logy_c = np.log(y_c)\n",
    "    \n",
    "    y_i = rho_infall(r, [rho_0, s_e])\n",
    "    \n",
    "    derivative = np.gradient(logy_tot, logr)\n",
    "    derivative_collapsed = np.gradient(logy_c, logr)\n",
    "    \n",
    "    r_sp[i] = r[derivative.argmin()]\n",
    "    der[i] = derivative.min()\n",
    "    der_c[i] = derivative_collapsed[derivative.argmin()]\n",
    "    \n",
    "    fraction_at_0[i] = y_c[0]/y_tot[0]\n",
    "    \n",
    "y_plotn2 = -1.*(1.+3.*r/0.5)/(1.+r/0.5)\n",
    "plt.plot(r, y_plotn2, '--b')\n",
    "#plt.axhline(-2.5, c='r', alpha=0.5)\n",
    "plt.plot(r, np.percentile(der_onesigma, 15.86, axis=0), c='r')\n",
    "plt.plot(r, np.percentile(der_onesigma, 84.13, axis=0), c='r')\n",
    "         \n",
    "plt.gca().set_xscale('log')\n",
    "plt.gca().set_ylim([-10., 0])\n",
    "plt.gca().set_xlim([.3, 10.])\n",
    "plt.gca().set_xlabel('Comoving radius $r$ (Mpc)')\n",
    "plt.gca().set_ylabel(r'$d\\log \\rho / d\\log r$')\n",
    "plt.show()\n",
    "\n",
    "\n",
    "\n",
    "for i in xrange(n_samples):\n",
    "    rho_s, r_s, logalpha, r_t, logbeta, loggamma, rho_0, s_e = params[i, :]\n",
    "    \n",
    "    # Plot fraction of collapsed material \n",
    "    y_c = rho_Ein(r, [rho_s, r_s, logalpha])*f_trans(r, [r_t, logbeta, loggamma])\n",
    "    logy_c = np.log(y_c)\n",
    "    derivative_collapsed = np.gradient(logy_c, logr)\n",
    "    \n",
    "    plt.plot(r, derivative_collapsed, c='k', alpha=0.01)\n",
    "    der_c_onesigma[i] = derivative_collapsed\n",
    "    \n",
    "\n",
    "y_plotn2 = -1.*(1.+3.*r/0.5)/(1.+r/0.5)\n",
    "plt.plot(r, y_plotn2, '--b')\n",
    "plt.axhline(-2.5, c='r', alpha=0.5)\n",
    "plt.plot(r, np.percentile(der_c_onesigma, 15.86, axis=0), c='r')\n",
    "plt.plot(r, np.percentile(der_c_onesigma, 84.13, axis=0), c='r')\n",
    "\n",
    "\n",
    "plt.gca().set_xscale('log')\n",
    "plt.gca().set_ylim([-10., 0])\n",
    "plt.gca().set_xlim([.2, 10.])\n",
    "plt.title('Collapsed derivative')\n",
    "plt.show()\n",
    "\n",
    "\n",
    "\n",
    "\n",
    "\n",
    "#Derivative of all material at splashback\n",
    "plt.figure()\n",
    "plt.hist(der[np.isfinite(der_c)], bins='auto', normed=True)\n",
    "plt.gca().set_xlabel('derivative of all material at splashback')\n",
    "plt.axvline(-2.5, c='r', ls='--')\n",
    "#plt.gca().text()\n",
    "plt.gca().set_xlim([-6,-2])\n",
    "plt.show()\n",
    "print \"1 sigma limits:\", np.percentile(der[np.isfinite(der_c)], 16), np.percentile(der[np.isfinite(der_c)], 50), np.percentile(der[np.isfinite(der_c)], 100-16)\n",
    "\n",
    "print \"3 sigma limits:\", np.percentile(der[np.isfinite(der_c)], 0.135), np.percentile(der[np.isfinite(der_c)], 50), np.percentile(der[np.isfinite(der_c)], 100-0.135)\n",
    "\n",
    "\n",
    "\n",
    "#Derivative of collapsed material at splashback\n",
    "plt.figure()\n",
    "plt.hist(der_c[np.isfinite(der_c)], bins='auto', normed=True)\n",
    "plt.gca().set_xlabel('derivative of collapsed material at splashback')\n",
    "plt.axvline(-2.5, c='r', ls='--')\n",
    "#plt.gca().text()\n",
    "plt.gca().set_xlim([-10,-2])\n",
    "plt.show()\n",
    "print \"3 sigma limits:\", np.percentile(der_c, 0.135), np.percentile(der_c, 50), np.percentile(der_c, 100-0.135)\n",
    "\n",
    "#Splashback position\n",
    "plt.figure()\n",
    "plt.hist(r_sp[np.isfinite(der_c)], bins='auto', normed=True)\n",
    "plt.gca().set_xlabel('splashback position')\n",
    "plt.gca().set_xlim([0, 7])\n",
    "plt.show()\n",
    "print \"one sigma limits:\", np.percentile(r_sp, 15.85), np.percentile(r_sp, 50), np.percentile(r_sp, 100-15.85)\n",
    "\n",
    "\n",
    "#Collapsed material at lower radius\n",
    "plt.figure()\n",
    "plt.hist(fraction_at_0[np.isfinite(der)], bins='auto', normed=True)\n",
    "plt.gca().set_xlabel('fraction of collapsed material at lowest radius')\n",
    "plt.show()"
   ]
  }
 ],
 "metadata": {
  "kernelspec": {
   "display_name": "Python 2",
   "language": "python",
   "name": "python2"
  },
  "language_info": {
   "codemirror_mode": {
    "name": "ipython",
    "version": 2
   },
   "file_extension": ".py",
   "mimetype": "text/x-python",
   "name": "python",
   "nbconvert_exporter": "python",
   "pygments_lexer": "ipython2",
   "version": "2.7.15"
  }
 },
 "nbformat": 4,
 "nbformat_minor": 2
}
